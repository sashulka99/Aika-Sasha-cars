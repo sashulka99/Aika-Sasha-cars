{
 "cells": [
  {
   "cell_type": "code",
   "execution_count": 1,
   "metadata": {},
   "outputs": [],
   "source": [
    "import pandas as pd"
   ]
  },
  {
   "cell_type": "code",
   "execution_count": 2,
   "metadata": {},
   "outputs": [],
   "source": [
    "df = pd.read_csv('results.csv')"
   ]
  },
  {
   "cell_type": "code",
   "execution_count": 5,
   "metadata": {},
   "outputs": [
    {
     "data": {
      "text/plain": [
       "1202    BMW (Brilliance) CN,5, F18 (2013 - ),520Li (20...\n",
       "1203    BMW (Brilliance) CN,5, F18 (2013 - ),525Li (20...\n",
       "1204    BMW (Brilliance) CN,X1, E84 (2014 - ),X1 sDriv...\n",
       "1205    BMW,Серия 1, E81 / E82 / E87 (2004 - 2013),116...\n",
       "1206    BMW,Серия 1, E81 / E82 / E87 (2004 - 2013),116...\n",
       "1207    BMW,Серия 1, E81 / E82 / E87 (2004 - 2013),116...\n",
       "1208    BMW,Серия 1, E81 / E82 / E87 (2004 - 2013),118...\n",
       "1209    BMW,Серия 1, E81 / E82 / E87 (2004 - 2013),118...\n",
       "1210    BMW,Серия 1, E81 / E82 / E87 (2004 - 2013),120...\n",
       "1211    BMW,Серия 1, E81 / E82 / E87 (2004 - 2013),120...\n",
       "1212    BMW,Серия 1, E81 / E82 / E87 (2004 - 2013),128...\n",
       "1213    BMW,Серия 1, E81 / E82 / E87 (2004 - 2013),125...\n",
       "1214    BMW,Серия 1, E81 / E82 / E87 (2004 - 2013),130...\n",
       "1215    BMW,Серия 1, E81 / E82 / E87 (2004 - 2013),128...\n",
       "1216    BMW,Серия 1, E81 / E82 / E87 (2004 - 2013),135...\n",
       "1217    BMW,Серия 1, E81 / E82 / E87 (2004 - 2013),135...\n",
       "1218    BMW,Серия 1, E81 / E82 / E87 (2004 - 2013),M C...\n",
       "1219    BMW,Серия 1, E81 / E82 / E87 (2004 - 2013),116...\n",
       "1220    BMW,Серия 1, E81 / E82 / E87 (2004 - 2013),118...\n",
       "1221    BMW,Серия 1, E81 / E82 / E87 (2004 - 2013),118...\n",
       "1222    BMW,Серия 1, E81 / E82 / E87 (2004 - 2013),118...\n",
       "1223    BMW,Серия 1, E81 / E82 / E87 (2004 - 2013),118...\n",
       "1224    BMW,Серия 1, E81 / E82 / E87 (2004 - 2013),118...\n",
       "1225    BMW,Серия 1, E81 / E82 / E87 (2004 - 2013),118...\n",
       "1226    BMW,Серия 1, E81 / E82 / E87 (2004 - 2013),120...\n",
       "1227    BMW,Серия 1, E81 / E82 / E87 (2004 - 2013),120...\n",
       "1228    BMW,Серия 1, E81 / E82 / E87 (2004 - 2013),120...\n",
       "1229    BMW,Серия 1, E81 / E82 / E87 (2004 - 2013),120...\n",
       "1230      BMW,Серия 1, F20 / F21 (2011 - ),114i (2012 - )\n",
       "1231      BMW,Серия 1, F20 / F21 (2011 - ),116i (2011 - )\n",
       "                              ...                        \n",
       "1795            BMW,Z1, Z1 (1988 - 1992),Z1 (1988 - 1992)\n",
       "1796      BMW,Z3, E36 (1995 - 2003),Z3 1.8i (1995 - 2000)\n",
       "1797      BMW,Z3, E36 (1995 - 2003),Z3 1.9i (1995 - 2000)\n",
       "1798      BMW,Z3, E36 (1995 - 2003),Z3 1.9i (2000 - 2003)\n",
       "1799      BMW,Z3, E36 (1995 - 2003),Z3 2.0i (1999 - 2000)\n",
       "1800      BMW,Z3, E36 (1995 - 2003),Z3 2.2i (2000 - 2003)\n",
       "1801      BMW,Z3, E36 (1995 - 2003),Z3 2.5i (1996 - 2003)\n",
       "1802      BMW,Z3, E36 (1995 - 2003),Z3 2.8i (1996 - 2000)\n",
       "1803      BMW,Z3, E36 (1995 - 2003),Z3 3.0i (2000 - 2003)\n",
       "1804         BMW,Z3, E36 (1995 - 2003),Z3 M (1997 - 2000)\n",
       "1805         BMW,Z3, E36 (1995 - 2003),Z3 M (2000 - 2003)\n",
       "1806    BMW,Z4 Coupe, E86 (2006 - 2008),Z4 Coup? 3.0si...\n",
       "1807    BMW,Z4 Coupe, E86 (2006 - 2008),Z4 M Coup? (20...\n",
       "1808    BMW,Z4 Roadster, E85 (2002 - 2008),Z4 2.0i (20...\n",
       "1809    BMW,Z4 Roadster, E85 (2002 - 2008),Z4 2.2i (20...\n",
       "1810    BMW,Z4 Roadster, E85 (2002 - 2008),Z4 2.5i (20...\n",
       "1811    BMW,Z4 Roadster, E85 (2002 - 2008),Z4 2.5i (20...\n",
       "1812    BMW,Z4 Roadster, E85 (2002 - 2008),Z4 2.5si (2...\n",
       "1813    BMW,Z4 Roadster, E85 (2002 - 2008),Z4 3.0i (20...\n",
       "1814    BMW,Z4 Roadster, E85 (2002 - 2008),Z4 3.0si (2...\n",
       "1815    BMW,Z4 Roadster, E85 (2002 - 2008),Z4 M Roadst...\n",
       "1816    BMW,Z4 Roadster, E89 (2008 - ),Z4 sDrive18i (2...\n",
       "1817    BMW,Z4 Roadster, E89 (2008 - ),Z4 sDrive20i (2...\n",
       "1818    BMW,Z4 Roadster, E89 (2008 - ),Z4 sDrive23i (2...\n",
       "1819    BMW,Z4 Roadster, E89 (2008 - ),Z4 sDrive28i (2...\n",
       "1820    BMW,Z4 Roadster, E89 (2008 - ),Z4 sDrive30i (2...\n",
       "1821    BMW,Z4 Roadster, E89 (2008 - ),Z4 sDrive35i (2...\n",
       "1822    BMW,Z4 Roadster, E89 (2008 - ),Z4 sDrive35is (...\n",
       "1823           BMW,Z8, E52 (2000 - 2003),Z8 (2000 - 2003)\n",
       "1824    BMW,i3, I01 (2013 - ),i3 Range Extender (2013 - )\n",
       "Name: path, Length: 623, dtype: object"
      ]
     },
     "execution_count": 5,
     "metadata": {},
     "output_type": "execute_result"
    }
   ],
   "source": [
    "df[df['path'].apply(lambda x: \"BMW\" in x)][\"path\"]"
   ]
  },
  {
   "cell_type": "code",
   "execution_count": 6,
   "metadata": {},
   "outputs": [],
   "source": [
    "df[\"path\"] = df[\"path\"].apply(lambda x: \",\".join(i.strip() for i in x.split(\",\")))"
   ]
  },
  {
   "cell_type": "code",
   "execution_count": 11,
   "metadata": {},
   "outputs": [
    {
     "data": {
      "text/plain": [
       "['E86 (2006 - 2008)']"
      ]
     },
     "execution_count": 11,
     "metadata": {},
     "output_type": "execute_result"
    }
   ],
   "source": [
    "choice = \"BMW,Z4 Coupe,\"\n",
    "\n",
    "sorted(list(set(df[df['path'].apply(lambda x: x[:len(choice)]==choice)]['path'].apply(lambda x: x.split(\",\")[choice.count(',')]))))"
   ]
  },
  {
   "cell_type": "code",
   "execution_count": null,
   "metadata": {},
   "outputs": [],
   "source": []
  }
 ],
 "metadata": {
  "kernelspec": {
   "display_name": "Python 3",
   "language": "python",
   "name": "python3"
  },
  "language_info": {
   "codemirror_mode": {
    "name": "ipython",
    "version": 3
   },
   "file_extension": ".py",
   "mimetype": "text/x-python",
   "name": "python",
   "nbconvert_exporter": "python",
   "pygments_lexer": "ipython3",
   "version": "3.6.3"
  }
 },
 "nbformat": 4,
 "nbformat_minor": 2
}
